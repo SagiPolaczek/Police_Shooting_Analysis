{
 "metadata": {
  "language_info": {
   "codemirror_mode": {
    "name": "ipython",
    "version": 3
   },
   "file_extension": ".py",
   "mimetype": "text/x-python",
   "name": "python",
   "nbconvert_exporter": "python",
   "pygments_lexer": "ipython3",
   "version": "3.8.5-final"
  },
  "orig_nbformat": 2,
  "kernelspec": {
   "name": "python_defaultSpec_1600090967451",
   "display_name": "Python 3.8.5 64-bit"
  }
 },
 "nbformat": 4,
 "nbformat_minor": 2,
 "cells": [
  {
   "source": [
    "# Fatals Police Shooting In The USA Analysis\n",
    "### Sagi Polaczek\n",
    "#### -14 September 2020- \n"
   ],
   "cell_type": "markdown",
   "metadata": {}
  },
  {
   "source": [
    "## Introduction\n",
    "Police shooting is one of the most hot topics in the USA nowdays.  \n",
    ".  \n",
    ".  \n",
    ".  \n",
    "\n",
    "\n",
    "## Data Set\n",
    "The dataset (fps_data.csv) was obtained from The Washington Post's repository.  \n",
    "The Post's dataset contains records of every fatal shooting in the United States by a police officer in the line of duty since Jan. 1, 2015.  \n",
    "The dataset describes 15 details about each killing, and is documenting only those shootings in which a police officer, in the line of duty, shoots and kills a civilian.  \n",
    ".  \n",
    ".  \n",
    ".  \n"
   ],
   "cell_type": "markdown",
   "metadata": {}
  },
  {
   "source": [
    "# Preliminaries:  \n",
    "In this project we'll use the following python packages:"
   ],
   "cell_type": "markdown",
   "metadata": {}
  },
  {
   "cell_type": "code",
   "execution_count": 17,
   "metadata": {},
   "outputs": [],
   "source": [
    "# Importing libraries we'll use\n",
    "import numpy as np\n",
    "import pandas as pd\n",
    "import matplotlib as plt\n",
    "import seaborn as sns"
   ]
  },
  {
   "source": [
    "Lets import the data as a Pandas's DataFrame and take a first look:"
   ],
   "cell_type": "markdown",
   "metadata": {}
  },
  {
   "cell_type": "code",
   "execution_count": 32,
   "metadata": {
    "tags": []
   },
   "outputs": [
    {
     "output_type": "stream",
     "name": "stdout",
     "text": "\nThe dataset contains 5624 rows.\n\nThe data's columns: ['name', 'date', 'manner_of_death', 'armed', 'age', 'gender', 'race', 'city', 'state', 'signs_of_mental_illness', 'threat_level', 'flee', 'body_camera', 'longitude', 'latitude', 'is_geocoding_exact']\n"
    },
    {
     "output_type": "execute_result",
     "data": {
      "text/plain": "                  name        date   manner_of_death       armed   age gender  \\\nid                                                                              \n3           Tim Elliot  2015-01-02              shot         gun  53.0      M   \n4     Lewis Lee Lembke  2015-01-02              shot         gun  47.0      M   \n5   John Paul Quintero  2015-01-03  shot and Tasered     unarmed  23.0      M   \n8      Matthew Hoffman  2015-01-04              shot  toy weapon  32.0      M   \n9    Michael Rodriguez  2015-01-04              shot    nail gun  39.0      M   \n\n   race           city state  signs_of_mental_illness threat_level  \\\nid                                                                   \n3     A        Shelton    WA                     True       attack   \n4     W          Aloha    OR                    False       attack   \n5     H        Wichita    KS                    False        other   \n8     W  San Francisco    CA                     True       attack   \n9     H          Evans    CO                    False       attack   \n\n           flee  body_camera  longitude  latitude  is_geocoding_exact  \nid                                                                     \n3   Not fleeing        False   -123.122    47.247                True  \n4   Not fleeing        False   -122.892    45.487                True  \n5   Not fleeing        False    -97.281    37.695                True  \n8   Not fleeing        False   -122.422    37.763                True  \n9   Not fleeing        False   -104.692    40.384                True  ",
      "text/html": "<div>\n<style scoped>\n    .dataframe tbody tr th:only-of-type {\n        vertical-align: middle;\n    }\n\n    .dataframe tbody tr th {\n        vertical-align: top;\n    }\n\n    .dataframe thead th {\n        text-align: right;\n    }\n</style>\n<table border=\"1\" class=\"dataframe\">\n  <thead>\n    <tr style=\"text-align: right;\">\n      <th></th>\n      <th>name</th>\n      <th>date</th>\n      <th>manner_of_death</th>\n      <th>armed</th>\n      <th>age</th>\n      <th>gender</th>\n      <th>race</th>\n      <th>city</th>\n      <th>state</th>\n      <th>signs_of_mental_illness</th>\n      <th>threat_level</th>\n      <th>flee</th>\n      <th>body_camera</th>\n      <th>longitude</th>\n      <th>latitude</th>\n      <th>is_geocoding_exact</th>\n    </tr>\n    <tr>\n      <th>id</th>\n      <th></th>\n      <th></th>\n      <th></th>\n      <th></th>\n      <th></th>\n      <th></th>\n      <th></th>\n      <th></th>\n      <th></th>\n      <th></th>\n      <th></th>\n      <th></th>\n      <th></th>\n      <th></th>\n      <th></th>\n      <th></th>\n    </tr>\n  </thead>\n  <tbody>\n    <tr>\n      <th>3</th>\n      <td>Tim Elliot</td>\n      <td>2015-01-02</td>\n      <td>shot</td>\n      <td>gun</td>\n      <td>53.0</td>\n      <td>M</td>\n      <td>A</td>\n      <td>Shelton</td>\n      <td>WA</td>\n      <td>True</td>\n      <td>attack</td>\n      <td>Not fleeing</td>\n      <td>False</td>\n      <td>-123.122</td>\n      <td>47.247</td>\n      <td>True</td>\n    </tr>\n    <tr>\n      <th>4</th>\n      <td>Lewis Lee Lembke</td>\n      <td>2015-01-02</td>\n      <td>shot</td>\n      <td>gun</td>\n      <td>47.0</td>\n      <td>M</td>\n      <td>W</td>\n      <td>Aloha</td>\n      <td>OR</td>\n      <td>False</td>\n      <td>attack</td>\n      <td>Not fleeing</td>\n      <td>False</td>\n      <td>-122.892</td>\n      <td>45.487</td>\n      <td>True</td>\n    </tr>\n    <tr>\n      <th>5</th>\n      <td>John Paul Quintero</td>\n      <td>2015-01-03</td>\n      <td>shot and Tasered</td>\n      <td>unarmed</td>\n      <td>23.0</td>\n      <td>M</td>\n      <td>H</td>\n      <td>Wichita</td>\n      <td>KS</td>\n      <td>False</td>\n      <td>other</td>\n      <td>Not fleeing</td>\n      <td>False</td>\n      <td>-97.281</td>\n      <td>37.695</td>\n      <td>True</td>\n    </tr>\n    <tr>\n      <th>8</th>\n      <td>Matthew Hoffman</td>\n      <td>2015-01-04</td>\n      <td>shot</td>\n      <td>toy weapon</td>\n      <td>32.0</td>\n      <td>M</td>\n      <td>W</td>\n      <td>San Francisco</td>\n      <td>CA</td>\n      <td>True</td>\n      <td>attack</td>\n      <td>Not fleeing</td>\n      <td>False</td>\n      <td>-122.422</td>\n      <td>37.763</td>\n      <td>True</td>\n    </tr>\n    <tr>\n      <th>9</th>\n      <td>Michael Rodriguez</td>\n      <td>2015-01-04</td>\n      <td>shot</td>\n      <td>nail gun</td>\n      <td>39.0</td>\n      <td>M</td>\n      <td>H</td>\n      <td>Evans</td>\n      <td>CO</td>\n      <td>False</td>\n      <td>attack</td>\n      <td>Not fleeing</td>\n      <td>False</td>\n      <td>-104.692</td>\n      <td>40.384</td>\n      <td>True</td>\n    </tr>\n  </tbody>\n</table>\n</div>"
     },
     "metadata": {},
     "execution_count": 32
    }
   ],
   "source": [
    "fps_data = pd.read_csv('fps_data.csv', index_col = 'id')\n",
    "print(\"\\nThe dataset contains %d rows.\" %fps_data.shape[0])\n",
    "print(\"\\nThe dataset's columns:\", list(fps_data.columns))\n",
    "fps_data.head()"
   ]
  },
  {
   "source": [
    "Exploring missing and unique values:"
   ],
   "cell_type": "markdown",
   "metadata": {}
  },
  {
   "cell_type": "code",
   "execution_count": 27,
   "metadata": {
    "tags": []
   },
   "outputs": [
    {
     "output_type": "stream",
     "name": "stdout",
     "text": "name                       209\ndate                         0\nmanner_of_death              0\narmed                      212\nage                        252\ngender                       1\nrace                       591\ncity                         0\nstate                        0\nsigns_of_mental_illness      0\nthreat_level                 0\nflee                       276\nbody_camera                  0\nlongitude                  272\nlatitude                   272\nis_geocoding_exact           0\ndtype: int64\n"
    }
   ],
   "source": [
    "print(fps_data.isnull().sum())"
   ]
  },
  {
   "source": [
    "Because the dataset has a total of 5624 rows, we are not concern by the missing values.   \n",
    "Furthermore, in this project we focus on data exploration and visualization and not on building a prediction model, so we won't touch those missing values."
   ],
   "cell_type": "markdown",
   "metadata": {}
  },
  {
   "source": [
    "# Data Exploration\n",
    "We'll start explored the data for each feature individually.   \n",
    "Later on we'll procceed to multivariate visualization."
   ],
   "cell_type": "markdown",
   "metadata": {}
  },
  {
   "cell_type": "code",
   "execution_count": null,
   "metadata": {},
   "outputs": [],
   "source": []
  }
 ]
}